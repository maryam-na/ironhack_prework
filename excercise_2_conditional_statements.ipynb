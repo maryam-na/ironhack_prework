{
 "cells": [
  {
   "cell_type": "code",
   "execution_count": null,
   "metadata": {},
   "outputs": [],
   "source": [
    "1. Exercise - Conditional Statements\n",
    "1.1- Ask the user to input a number (should be integer). Check if the number is even or odd. Remember that 0 is neither even nor odd. Note, when you would use the `input` function, by default it is string. You would have to use type conversion to convert it into integer."
   ]
  },
  {
   "cell_type": "code",
   "execution_count": 25,
   "metadata": {},
   "outputs": [
    {
     "name": "stdout",
     "output_type": "stream",
     "text": [
      "Enter an integer number: 0\n",
      "The input is zero. Therefore it is neither odd nor odd number!\n"
     ]
    }
   ],
   "source": [
    "a = input(\"Enter an integer number: \")\n",
    "\n",
    "if a.replace('.','',1).isdigit():  # Checks if the string is a number or not \n",
    "    a = int(a)         # Type conversion to integer\n",
    "\n",
    "    if a != 0:\n",
    "        if (a%2)==0:             # Nested IF condition, check if a is an even number\n",
    "            print('The input is an even number')            \n",
    "\n",
    "        else: \n",
    "            print(\"The input is an odd nember\") #check if a is an odd number\n",
    "    else:\n",
    "        print(\"The input is zero. Therefore it is neither odd nor odd number!\")\n",
    "else:\n",
    "    print(\"The input is not a number!\")"
   ]
  },
  {
   "cell_type": "markdown",
   "metadata": {},
   "source": [
    "1.2- Ask the user to input a number (should be integer). Check whether the number is zero, positive or negative."
   ]
  },
  {
   "cell_type": "code",
   "execution_count": 28,
   "metadata": {},
   "outputs": [
    {
     "name": "stdout",
     "output_type": "stream",
     "text": [
      "Enter an integer number: -90\n",
      "The input is negative\n"
     ]
    }
   ],
   "source": [
    "a = input(\"Enter an integer number: \")\n",
    " \n",
    "a = int(a)         # Type conversion to integer \n",
    "        \n",
    "if a > 0:       # Nested IF condition, check if a is positive\n",
    "    print('The input is positive')\n",
    "            \n",
    "elif a < 0:    # check if a is negative\n",
    "    print('The input is negative')\n",
    "else:\n",
    "    print('The input is zero')\n"
   ]
  },
  {
   "cell_type": "markdown",
   "metadata": {},
   "source": [
    "1.3- A school has following grading system:\n",
    "\n",
    "a. Below 25 - F\n",
    "b. 25 to 45 - E\n",
    "c. 45 to 60 - D\n",
    "d. 60 to 75 - C\n",
    "e. 75 to 90 - B\n",
    "f. Above 90 - A\n",
    "\n",
    "Ask user to enter marks (assuming the marks are between 0 and 100) and print the corresponding grade.\n",
    "\n"
   ]
  },
  {
   "cell_type": "code",
   "execution_count": 14,
   "metadata": {},
   "outputs": [
    {
     "name": "stdout",
     "output_type": "stream",
     "text": [
      "Please enter your mark (it should be between 0 to 100): 120\n",
      "The input is invalid!\n"
     ]
    }
   ],
   "source": [
    "a = input(\"Please enter your mark (it should be between 0 to 100): \")\n",
    "\n",
    "if a.replace('.','',1).isdigit():  # Checks if the string is a number or not \n",
    "    a = float(a)         # Type conversion to float \n",
    "    if a >= 0 and a <= 100: # Nested IF condition, check if a is an integer number within the range\n",
    "        if a < 25:\n",
    "            print('Your corresponding grade is F')\n",
    "        elif (a >= 25) and (a <= 45):             \n",
    "            print('Your corresponding grade is E')  \n",
    "        elif (a > 45) and (a <= 60):             \n",
    "            print('Your corresponding grade is D')\n",
    "        elif (a > 60) and (a <= 75):             \n",
    "            print('Your corresponding grade is C') \n",
    "        elif (a > 75) and (a <= 90):             \n",
    "            print('Your corresponding grade is B')             \n",
    "\n",
    "        else:\n",
    "            print(\"Your corresponding grade is A\")\n",
    "    else:\n",
    "        print('The input is invalid!')\n",
    "else:\n",
    "    print(\"The input is not a number!\")"
   ]
  },
  {
   "cell_type": "code",
   "execution_count": 29,
   "metadata": {},
   "outputs": [
    {
     "ename": "AttributeError",
     "evalue": "'list' object has no attribute 'replace'",
     "output_type": "error",
     "traceback": [
      "\u001b[1;31m---------------------------------------------------------------------------\u001b[0m",
      "\u001b[1;31mAttributeError\u001b[0m                            Traceback (most recent call last)",
      "\u001b[1;32m<ipython-input-29-99ed305b3e48>\u001b[0m in \u001b[0;36m<module>\u001b[1;34m\u001b[0m\n\u001b[0;32m      1\u001b[0m \u001b[0ml\u001b[0m\u001b[1;33m=\u001b[0m\u001b[1;33m[\u001b[0m\u001b[1;36m6\u001b[0m\u001b[1;33m,\u001b[0m\u001b[1;36m7\u001b[0m\u001b[1;33m,\u001b[0m\u001b[1;36m8\u001b[0m\u001b[1;33m]\u001b[0m\u001b[1;33m\u001b[0m\u001b[1;33m\u001b[0m\u001b[0m\n\u001b[1;32m----> 2\u001b[1;33m \u001b[0ml\u001b[0m\u001b[1;33m.\u001b[0m\u001b[0mreplace\u001b[0m\u001b[1;33m(\u001b[0m\u001b[1;36m7\u001b[0m\u001b[1;33m,\u001b[0m\u001b[1;36m8\u001b[0m\u001b[1;33m)\u001b[0m\u001b[1;33m\u001b[0m\u001b[1;33m\u001b[0m\u001b[0m\n\u001b[0m",
      "\u001b[1;31mAttributeError\u001b[0m: 'list' object has no attribute 'replace'"
     ]
    }
   ],
   "source": [
    "l=[6,7,8]\n",
    "l.replace(7,8)"
   ]
  },
  {
   "cell_type": "code",
   "execution_count": null,
   "metadata": {},
   "outputs": [],
   "source": []
  }
 ],
 "metadata": {
  "kernelspec": {
   "display_name": "Python 3",
   "language": "python",
   "name": "python3"
  },
  "language_info": {
   "codemirror_mode": {
    "name": "ipython",
    "version": 3
   },
   "file_extension": ".py",
   "mimetype": "text/x-python",
   "name": "python",
   "nbconvert_exporter": "python",
   "pygments_lexer": "ipython3",
   "version": "3.8.3"
  }
 },
 "nbformat": 4,
 "nbformat_minor": 4
}
