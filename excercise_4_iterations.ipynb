{
 "cells": [
  {
   "cell_type": "code",
   "execution_count": 60,
   "metadata": {},
   "outputs": [
    {
     "name": "stdout",
     "output_type": "stream",
     "text": [
      "10\n",
      "11\n",
      "12\n",
      "13\n",
      "14\n",
      "15\n",
      "16\n",
      "17\n",
      "18\n",
      "19\n",
      "20\n",
      "21\n",
      "22\n",
      "23\n",
      "24\n",
      "25\n",
      "26\n",
      "27\n",
      "28\n",
      "29\n"
     ]
    }
   ],
   "source": [
    "#Excercise Simple iterations\n",
    "#1.1 Write a simple for loop to print integers from 10 to 30. Also write a code to print those numbers in steps of 3.\n",
    "for i in range(10,30):\n",
    "    print(i)\n",
    "    "
   ]
  },
  {
   "cell_type": "code",
   "execution_count": 61,
   "metadata": {},
   "outputs": [
    {
     "name": "stdout",
     "output_type": "stream",
     "text": [
      "10\n",
      "13\n",
      "16\n",
      "19\n",
      "22\n",
      "25\n",
      "28\n"
     ]
    }
   ],
   "source": [
    "for i in range(10,30,3):\n",
    "    print(i)\n",
    "    "
   ]
  },
  {
   "cell_type": "code",
   "execution_count": 62,
   "metadata": {},
   "outputs": [
    {
     "name": "stdout",
     "output_type": "stream",
     "text": [
      "10\n",
      "15\n",
      "20\n",
      "25\n"
     ]
    }
   ],
   "source": [
    "#1.2 Update the previous code to print all the numbers from 10 to 30 that are multiples of 5.\n",
    "for i in range(10,30):\n",
    "    if (i%5==0):\n",
    "        print(i)\n"
   ]
  },
  {
   "cell_type": "code",
   "execution_count": 65,
   "metadata": {},
   "outputs": [
    {
     "name": "stdout",
     "output_type": "stream",
     "text": [
      "***\n",
      "***\n"
     ]
    }
   ],
   "source": [
    "#Write a code to print this pattern. Modify the print statement in the dummy code provided:\n",
    "#***\n",
    "#***\n",
    "for i in range(1,3):\n",
    "    print('***')\n",
    "  \n"
   ]
  },
  {
   "cell_type": "code",
   "execution_count": 72,
   "metadata": {},
   "outputs": [
    {
     "name": "stdout",
     "output_type": "stream",
     "text": [
      "****\n",
      "****\n"
     ]
    }
   ],
   "source": [
    "#Update the previous code to print the following pattern:\n",
    "#****\n",
    "#****\n",
    "for i in range(1,3):\n",
    "    print('****')"
   ]
  },
  {
   "cell_type": "code",
   "execution_count": 88,
   "metadata": {},
   "outputs": [
    {
     "name": "stdout",
     "output_type": "stream",
     "text": [
      "*\n",
      "***\n",
      "*****\n"
     ]
    }
   ],
   "source": [
    "#1.3-Write a code to print this pattern. Modify the print statement in the dummy code provided:\n",
    "#*\n",
    "# ***\n",
    "# *****\n",
    "for i in range(1, 6, 2):\n",
    "    print(i*'*')"
   ]
  },
  {
   "cell_type": "code",
   "execution_count": 89,
   "metadata": {},
   "outputs": [
    {
     "name": "stdout",
     "output_type": "stream",
     "text": [
      "   *\n",
      "  ***\n",
      " *****\n"
     ]
    }
   ],
   "source": [
    "#1.4-Update the previous code to print the following pattern:\n",
    "\n",
    " #  *\n",
    "#  ***\n",
    "# *****\n",
    "s = 2\n",
    "for i in range(1,6,2):\n",
    "    print(s*' ',i*'*')\n",
    "    s = s - 1"
   ]
  },
  {
   "cell_type": "code",
   "execution_count": 97,
   "metadata": {},
   "outputs": [
    {
     "name": "stdout",
     "output_type": "stream",
     "text": [
      "please enter a positive integer:9\n",
      "Factorial: 362880\n",
      "The answer is correct\n"
     ]
    }
   ],
   "source": [
    "#1.5- Take a positive integer input from the user. Find the factorial of that number. Use the factorial method provided in the math library to check if your result is correct or not. You can use the math library to calculate the factorial as follows:\n",
    "\n",
    "import math\n",
    "a=input('please enter a positive integer:')\n",
    "a=int(a)\n",
    "r = 1\n",
    "for a in range(2,a+1):\n",
    "    r = r*a\n",
    "if r == math.factorial(a):\n",
    "    print('Factorial:', r)\n",
    "    print('The answer is correct')\n",
    "else:\n",
    "    print('Your answer is not correct')\n"
   ]
  },
  {
   "cell_type": "code",
   "execution_count": 99,
   "metadata": {},
   "outputs": [
    {
     "name": "stdout",
     "output_type": "stream",
     "text": [
      "The following numbers from the list x are divisible by 3: [12, 6, 12, 93, 783, 330]\n"
     ]
    }
   ],
   "source": [
    "#Exercise : Iterations on Lists\n",
    "#Given the list:\n",
    "\n",
    "# x = [12, 43, 4, 1, 6, 343, 10, 34, 12, 93, 783, 330, 896, 1, 55]\n",
    "#Write a code to find only those numbers that are divisible by 3.\n",
    "x = [12, 43, 4, 1, 6, 343, 10, 34, 12, 93, 783, 330, 896, 1, 55]\n",
    "l=[]\n",
    "for item in x:\n",
    "    if (item%3 ==0):\n",
    "        l.append(item)\n",
    "print('The following numbers from the list x are divisible by 3:', l)        \n",
    "        \n"
   ]
  },
  {
   "cell_type": "code",
   "execution_count": 107,
   "metadata": {},
   "outputs": [
    {
     "name": "stdout",
     "output_type": "stream",
     "text": [
      "These numbers of x end with 3: ['43', '343', '93', '783']\n"
     ]
    }
   ],
   "source": [
    "#Write a code to find only those numbers in the list that end with the digit 3. Store the results in an empty list called \"output_list\".\n",
    "output_list=[]\n",
    "for item in x:\n",
    "    item_new=str(item)\n",
    "    end_digit=item_new[-1]\n",
    "    if ( end_digit == '3'):\n",
    "        output_list.append(item_new)\n",
    "print('These numbers of x end with 3:',output_list) \n",
    "  \n",
    "\n"
   ]
  },
  {
   "cell_type": "code",
   "execution_count": 108,
   "metadata": {},
   "outputs": [
    {
     "data": {
      "text/plain": [
       "1"
      ]
     },
     "execution_count": 108,
     "metadata": {},
     "output_type": "execute_result"
    }
   ],
   "source": [
    "#Find the minimum in the list x. Conduct your own research to see if you can use any function directly.\n",
    "min(x)"
   ]
  },
  {
   "cell_type": "code",
   "execution_count": 109,
   "metadata": {},
   "outputs": [
    {
     "data": {
      "text/plain": [
       "896"
      ]
     },
     "execution_count": 109,
     "metadata": {},
     "output_type": "execute_result"
    }
   ],
   "source": [
    "#Find the maximum in the list x. Conduct your own research to see if you can use any function directly.\n",
    "max(x)"
   ]
  },
  {
   "cell_type": "code",
   "execution_count": 112,
   "metadata": {},
   "outputs": [
    {
     "name": "stdout",
     "output_type": "stream",
     "text": [
      "conversation\n",
      "we're\n",
      "plate\n",
      "sour\n",
      "jukebox\n",
      "taxi\n",
      "fast\n",
      "bag\n",
      "man\n",
      "going\n",
      "don't\n",
      "one\n",
      "mind\n",
      "backseat\n",
      "friends\n",
      "know\n"
     ]
    }
   ],
   "source": [
    "#Exercise: Iterations on Dictionaries\n",
    "#Given this dictionary:\n",
    "#word_freq = {'love': 25, 'conversation': 1, 'every': 6, \"we're\": 1, 'plate': 1, 'sour': 1, 'jukebox': 1, 'now': 11, 'taxi': 1, 'fast': 1, 'bag': 1, 'man': 1, 'push': 3, 'baby': 14, 'going': 1, 'you': 16, \"don't\": 2, 'one': 1, 'mind': 2, 'backseat': 1, 'friends': 1, 'then': 3, 'know': 2}\n",
    "#Iterate on the items of this dictionary to print only those keys where the freqeuncy of the word is less than 3?\n",
    "\n",
    "word_freq = {'love': 25, 'conversation': 1, 'every': 6, \"we're\": 1, 'plate': 1, 'sour': 1, 'jukebox': 1, 'now': 11, 'taxi': 1, 'fast': 1, 'bag': 1, 'man': 1, 'push': 3, 'baby': 14, 'going': 1, 'you': 16, \"don't\": 2, 'one': 1, 'mind': 2, 'backseat': 1, 'friends': 1, 'then': 3, 'know': 2}\n",
    "for key, value in word_freq.items():\n",
    "    if value < 3:\n",
    "        print(key)\n"
   ]
  },
  {
   "cell_type": "code",
   "execution_count": 123,
   "metadata": {},
   "outputs": [
    {
     "name": "stdout",
     "output_type": "stream",
     "text": [
      "love\n"
     ]
    }
   ],
   "source": [
    "#Which is the word with the highest frequency?\n",
    "l = list(word_freq.values())\n",
    "m = max(l)\n",
    "for key, value in word_freq.items():\n",
    "    if value == m:\n",
    "        print(key)\n"
   ]
  },
  {
   "cell_type": "code",
   "execution_count": null,
   "metadata": {},
   "outputs": [],
   "source": []
  }
 ],
 "metadata": {
  "kernelspec": {
   "display_name": "Python 3",
   "language": "python",
   "name": "python3"
  },
  "language_info": {
   "codemirror_mode": {
    "name": "ipython",
    "version": 3
   },
   "file_extension": ".py",
   "mimetype": "text/x-python",
   "name": "python",
   "nbconvert_exporter": "python",
   "pygments_lexer": "ipython3",
   "version": "3.8.3"
  }
 },
 "nbformat": 4,
 "nbformat_minor": 4
}
