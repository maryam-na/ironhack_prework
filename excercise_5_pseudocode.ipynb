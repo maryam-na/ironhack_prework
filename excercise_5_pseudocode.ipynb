{
 "cells": [
  {
   "cell_type": "code",
   "execution_count": 136,
   "metadata": {},
   "outputs": [
    {
     "name": "stdout",
     "output_type": "stream",
     "text": [
      "Gandalf wins\n"
     ]
    }
   ],
   "source": [
    "#1. Exercise - Writing Pseudocode\n",
    "#You are witnessing an epic battle between two powerful sorcerers: Gandalf and Saruman. Each sorcerer has 10 spells of different powers in their mind and they are going to throw them one after the other. The winner of the duel will be the one who wins more of those clashes between spells. Spells are represented as a list of 10 integers whose value equals the power of the spell.\n",
    "\n",
    "#gandalf = [10, 11, 13, 30, 22, 11, 10, 33, 22, 22]\n",
    "#saruman = [23, 66, 12, 43, 12, 10, 44, 23, 12, 17]\n",
    "#For example:\n",
    "\n",
    "#The first clash is won by Saruman: 10 against 23\n",
    "#The second clash is won by Saruman: 11 against 66 etc.\n",
    "#You will create two variables, one for each sorcerer, where the total of number of clashes won by each sorcerer will be stored. Depending on which variable is greater at the end of the duel, you will show one of the following three results on the screen:\n",
    "#Gandalf wins\n",
    "#Saruman wins\n",
    "#Tie\n",
    "#Write pseudocode to solve this problem and then code it!\n",
    "#***pseudocode***\n",
    "#Assign spell power list to the variables\n",
    "# creating a variable to store the total number of clashes that Gandalf won and assigning initial value of 0 to it (c1)\n",
    "#creating a variable to store the total number of clashes that Surman won nd assigning initial value of 0 to it (c2)\n",
    "# Execute the spell clashes. Iterate on the length of any one list:\n",
    "#compare the power of each sorcerer and increment the total count of the  winning of the winner by 1: if Gandalf won add 1 to c1\n",
    "#else if Saruman won add 1 to c2\n",
    "#else there is a tie\n",
    "#compare the total number of victory by each sorcerer c1 and c2\n",
    "#if c1 > c2, print'Gandalf wins'\n",
    "#else if c2 > c1, print'Sariman wins\n",
    "#else c1 = c2, print 'Tie'\n",
    "            \n",
    "\n",
    "#***Code***\n",
    "gandalf = [10, 11, 13, 30, 22, 11, 10, 33, 22, 22]\n",
    "saruman = [23, 66, 12, 43, 12, 10, 44, 23, 12, 17]\n",
    "\n",
    "c1=0\n",
    "c2=0\n",
    "for s in range(0, len(gandalf)):\n",
    "    if (gandalf[s] > saruman[s]):\n",
    "        c1+=1\n",
    "    elif (saruman[s] > gandalf[s]):\n",
    "        c2+=1\n",
    "\n",
    "if c1 > c2:\n",
    "    print('Gandalf wins')\n",
    "elif c2 > c1:\n",
    "    print('Saruman wins')\n",
    "else:\n",
    "    print('Tie')\n",
    "    \n",
    "        \n",
    "        "
   ]
  },
  {
   "cell_type": "code",
   "execution_count": 11,
   "metadata": {},
   "outputs": [
    {
     "name": "stdout",
     "output_type": "stream",
     "text": [
      "[50, 40, 40, 10, 50, 10, 40, 50, 50, 50]\n",
      "[45, 45, 25, 50, 25, 40, 10, 45, 10, 10]\n"
     ]
    }
   ],
   "source": [
    "power = {\n",
    "    'Fireball': 50, \n",
    "    'Lightning bolt': 40, \n",
    "    'Magic arrow': 10, \n",
    "    'Black Tentacles': 25, \n",
    "    'Contagion': 45\n",
    "}\n",
    "\n",
    "gandalf = ['Fireball', 'Lightning bolt', 'Lightning bolt', 'Magic arrow', 'Fireball', 'Magic arrow', 'Lightning bolt', 'Fireball', 'Fireball', 'Fireball']\n",
    "\n",
    "saruman = ['Contagion', 'Contagion', 'Black Tentacles', 'Fireball', 'Black Tentacles', 'Lightning bolt', 'Magic arrow', 'Contagion', 'Magic arrow', 'Magic arrow']\n",
    "    \n",
    "gandalf_spell = []\n",
    "  \n",
    "saruman_spell = []\n",
    "  \n",
    "for item1 in gandalf:\n",
    "    gandalf_spell.append(power[item1])   \n",
    "for item2 in saruman:\n",
    "    saruman_spell.append(power[item2])    \n",
    "print(gandalf_spell)  \n",
    "print(saruman_spell)"
   ]
  },
  {
   "cell_type": "code",
   "execution_count": 12,
   "metadata": {},
   "outputs": [
    {
     "data": {
      "text/plain": [
       "10"
      ]
     },
     "execution_count": 12,
     "metadata": {},
     "output_type": "execute_result"
    }
   ],
   "source": [
    "saruman = [23, 66, 12, 43, 12, 10, 44, 23, 12, 17]\n",
    "len(saruman)"
   ]
  },
  {
   "cell_type": "code",
   "execution_count": 17,
   "metadata": {},
   "outputs": [],
   "source": [
    "l=[1,2,3]\n",
    "m=[4,5]\n",
    "f=l+m"
   ]
  },
  {
   "cell_type": "code",
   "execution_count": 18,
   "metadata": {},
   "outputs": [
    {
     "data": {
      "text/plain": [
       "[1, 2, 3, 4, 5]"
      ]
     },
     "execution_count": 18,
     "metadata": {},
     "output_type": "execute_result"
    }
   ],
   "source": [
    "f"
   ]
  },
  {
   "cell_type": "code",
   "execution_count": 19,
   "metadata": {},
   "outputs": [
    {
     "ename": "SyntaxError",
     "evalue": "cannot assign to function call (<ipython-input-19-4b3e6d7e2956>, line 6)",
     "output_type": "error",
     "traceback": [
      "\u001b[1;36m  File \u001b[1;32m\"<ipython-input-19-4b3e6d7e2956>\"\u001b[1;36m, line \u001b[1;32m6\u001b[0m\n\u001b[1;33m    len(combined_list)=size\u001b[0m\n\u001b[1;37m    ^\u001b[0m\n\u001b[1;31mSyntaxError\u001b[0m\u001b[1;31m:\u001b[0m cannot assign to function call\n"
     ]
    }
   ],
   "source": [
    "gandal2=[50, 40, 40, 10, 50, 10, 40, 50, 50, 50]\n",
    "saruman2=[45, 45, 25, 50, 25, 40, 10, 45, 10, 10]\n",
    "def avg_spells(a):\n",
    "    # YOUR SOLUTION HERE\n",
    "    combined_list=gandalf2+saruman2\n",
    "    len(combined_list)=size\n",
    "    sum1=0\n",
    "    for i in range(0,size):\n",
    "      sum1+=combined_list[i]\n",
    "      result=sum/size\n",
    "      solution2=np.round(result,1)\n",
    "      return solution2"
   ]
  },
  {
   "cell_type": "code",
   "execution_count": null,
   "metadata": {},
   "outputs": [],
   "source": []
  }
 ],
 "metadata": {
  "kernelspec": {
   "display_name": "Python 3",
   "language": "python",
   "name": "python3"
  },
  "language_info": {
   "codemirror_mode": {
    "name": "ipython",
    "version": 3
   },
   "file_extension": ".py",
   "mimetype": "text/x-python",
   "name": "python",
   "nbconvert_exporter": "python",
   "pygments_lexer": "ipython3",
   "version": "3.8.3"
  }
 },
 "nbformat": 4,
 "nbformat_minor": 4
}
