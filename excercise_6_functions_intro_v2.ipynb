{
 "cells": [
  {
   "cell_type": "markdown",
   "metadata": {},
   "source": [
    "Exercise\n",
    "Create a \"generation calculator\" to help determine the generation you belong to according to your birth year. Follow the below information:\n",
    "\n",
    "+-----------------+---------------------+\n",
    "|  birth_year     |      generation     |\n",
    "+-----------------+---------------------+\n",
    "|     < 1949      |  silent generation  |\n",
    "+-----------------+---------------------+\n",
    "|     < 1969      |     baby boomer     |\n",
    "+-----------------+---------------------+\n",
    "|     < 1981      |     X generation    | \n",
    "+-----------------+---------------------+\n",
    "|     < 1994      |      millennial     | \n",
    "+-----------------+---------------------+\n",
    "|     > 1994      |    Z generation     | \n",
    "+-----------------+---------------------+\n",
    "Let's add some \"fake\" users whose data we will be using to validate if the function gives us the correct and expected result.\n",
    "\n",
    "# Generation What?\n",
    "\n",
    "name1 = \"Jonh\"\n",
    "birth_year1 = 1989\n",
    "\n",
    "name2 = \"Mari\"\n",
    "birth_year2 = 1995\n",
    "\n",
    "name3 = \"Mich\"\n",
    "birth_year3 = 1960\n",
    "1- Define the function generation calculator & add both parameters to represent both variables we are going to need in this function.\n",
    "2- Determine generation as a birth year (we need to know the year to be able to calculate)\n",
    "Print the results\n",
    "3- Write conditionals for each generation. For example, if you were born before 1949 you would be a \"silent generation\".\n",
    "4- Define variables for each result\n",
    "Show results"
   ]
  },
  {
   "cell_type": "code",
   "execution_count": 170,
   "metadata": {},
   "outputs": [],
   "source": [
    "def generation_calculator (name,birth_year):\n",
    "    generation = birth_year\n",
    "    print (\"Generation: \")\n",
    "    print (generation)\n",
    "    if (generation < 1949):    \n",
    "        return name + \" silent generation\"\n",
    "\n",
    "    elif (generation < 1969):\n",
    "        return name + \" baby boomer\"\n",
    "    elif (generation < 1981):\n",
    "        return name + \" x generation\"\n",
    "    elif (generation < 1994):\n",
    "        return name + \" millenial\"\n",
    "    else:\n",
    "        return name  + \" z generation\""
   ]
  },
  {
   "cell_type": "code",
   "execution_count": 171,
   "metadata": {},
   "outputs": [
    {
     "name": "stdout",
     "output_type": "stream",
     "text": [
      "Generation: \n",
      "1989\n",
      "Generation: \n",
      "1995\n",
      "Generation: \n",
      "1960\n",
      "Jonh millenial\n",
      "Mari z generation\n",
      "Mich baby boomer\n"
     ]
    }
   ],
   "source": [
    "name1 = \"Jonh\"\n",
    "birth_year1 = 1989\n",
    "\n",
    "name2 = \"Mari\"\n",
    "birth_year2 = 1995\n",
    "\n",
    "name3 = \"Mich\"\n",
    "birth_year3 = 1960\n",
    "test1 = generation_calculator (name1,birth_year1)\n",
    "test2 = generation_calculator (name2,birth_year2)\n",
    "test3 = generation_calculator (name3,birth_year3)\n",
    "print(test1)\n",
    "print(test2)\n",
    "print(test3)"
   ]
  },
  {
   "cell_type": "code",
   "execution_count": null,
   "metadata": {},
   "outputs": [],
   "source": []
  }
 ],
 "metadata": {
  "kernelspec": {
   "display_name": "Python 3",
   "language": "python",
   "name": "python3"
  },
  "language_info": {
   "codemirror_mode": {
    "name": "ipython",
    "version": 3
   },
   "file_extension": ".py",
   "mimetype": "text/x-python",
   "name": "python",
   "nbconvert_exporter": "python",
   "pygments_lexer": "ipython3",
   "version": "3.8.3"
  }
 },
 "nbformat": 4,
 "nbformat_minor": 4
}
